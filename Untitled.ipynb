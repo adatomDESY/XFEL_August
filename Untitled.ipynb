{
 "cells": [
  {
   "cell_type": "code",
   "execution_count": null,
   "id": "c579dfdc-3bbe-4e1a-9fa2-73df9e3f28af",
   "metadata": {},
   "outputs": [],
   "source": [
    "test test \n",
    "\n",
    "hooray\n",
    "hohoho"
   ]
  }
 ],
 "metadata": {
  "kernelspec": {
   "display_name": "xfel (202301; Python 3.9)",
   "language": "python",
   "name": "xfel-202301"
  },
  "language_info": {
   "codemirror_mode": {
    "name": "ipython",
    "version": 3
   },
   "file_extension": ".py",
   "mimetype": "text/x-python",
   "name": "python",
   "nbconvert_exporter": "python",
   "pygments_lexer": "ipython3",
   "version": "3.9.16"
  }
 },
 "nbformat": 4,
 "nbformat_minor": 5
}
