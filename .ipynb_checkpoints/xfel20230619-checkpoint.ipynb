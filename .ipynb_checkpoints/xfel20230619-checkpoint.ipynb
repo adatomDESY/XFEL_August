{
 "cells": [
  {
   "cell_type": "code",
   "execution_count": null,
   "id": "0ad106b9-9383-44a6-8efc-e52287ac1faf",
   "metadata": {},
   "outputs": [],
   "source": [
    "this is a test file.\n",
    "\n",
    "hohoho\n",
    " just a test file\n",
    "    \n",
    "    \n",
    "    now test to commit and find diff\n",
    "    again\n",
    "    test commit\n",
    "    test\n",
    "    2\n",
    "    test\n",
    "    test\n",
    "    3\n",
    "    45\n",
    "    hoorya\n",
    "    \n",
    "    \n",
    "    test to push agaibn\n",
    "    direct push to check\n",
    "    direct commit then push"
   ]
  }
 ],
 "metadata": {
  "kernelspec": {
   "display_name": "xfel (202301; Python 3.9)",
   "language": "python",
   "name": "xfel-202301"
  },
  "language_info": {
   "codemirror_mode": {
    "name": "ipython",
    "version": 3
   },
   "file_extension": ".py",
   "mimetype": "text/x-python",
   "name": "python",
   "nbconvert_exporter": "python",
   "pygments_lexer": "ipython3",
   "version": "3.9.16"
  }
 },
 "nbformat": 4,
 "nbformat_minor": 5
}
