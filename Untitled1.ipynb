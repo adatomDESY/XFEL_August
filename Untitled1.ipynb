{
 "cells": [
  {
   "cell_type": "code",
   "execution_count": null,
   "id": "ad3b567f-dd03-409d-8066-c9da982cc8d1",
   "metadata": {},
   "outputs": [],
   "source": [
    "i am not sure why cannopt\n",
    "\n",
    "test to push agaibn\n",
    "\n",
    "    direct push to check\n",
    "    \n",
    "        direct commit then push"
   ]
  }
 ],
 "metadata": {
  "kernelspec": {
   "display_name": "Python 3.9",
   "language": "python",
   "name": "python3"
  },
  "language_info": {
   "codemirror_mode": {
    "name": "ipython",
    "version": 3
   },
   "file_extension": ".py",
   "mimetype": "text/x-python",
   "name": "python",
   "nbconvert_exporter": "python",
   "pygments_lexer": "ipython3",
   "version": "3.9.16"
  }
 },
 "nbformat": 4,
 "nbformat_minor": 5
}
